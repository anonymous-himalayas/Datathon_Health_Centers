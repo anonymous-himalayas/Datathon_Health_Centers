{
 "cells": [
  {
   "cell_type": "code",
   "execution_count": 1,
   "id": "85ef4b47",
   "metadata": {},
   "outputs": [],
   "source": [
    "import pandas as pd\n",
    "import matplotlib as plt\n",
    "import zipfile\n",
    "import numpy as np\n",
    "import os\n"
   ]
  },
  {
   "cell_type": "code",
   "execution_count": null,
   "id": "5202942e",
   "metadata": {},
   "outputs": [],
   "source": [
    "# zip_path = \"C:/Users/anony/Downloads/isic-2024-challenge.zip\"\n",
    "\n",
    "# with zipfile.ZipFile(zip_path, 'r') as zip_ref:\n",
    "#     zip_ref.extractall('isic-2024-challenge')"
   ]
  },
  {
   "cell_type": "code",
   "execution_count": 10,
   "id": "b7f57969",
   "metadata": {},
   "outputs": [
    {
     "name": "stderr",
     "output_type": "stream",
     "text": [
      "C:\\Users\\anony\\AppData\\Local\\Temp\\ipykernel_16256\\255108611.py:8: DtypeWarning: Columns (51,52) have mixed types. Specify dtype option on import or set low_memory=False.\n",
      "  isic_train = pd.read_csv('isic-2024-challenge/train-metadata.csv')\n"
     ]
    },
    {
     "name": "stdout",
     "output_type": "stream",
     "text": [
      "401059\n"
     ]
    }
   ],
   "source": [
    "chatbot_training_data = pd.read_csv('Chatbot-arena/train.csv')\n",
    "chatbot_testing_data = pd.read_csv('Chatbot-arena/test.csv')\n",
    "\n",
    "stratascratch_data = pd.read_csv('StrataScratch_Uber/ds_challenge_v2_1_data.csv')\n",
    "\n",
    "\n",
    "\n",
    "isic_train = pd.read_csv('isic-2024-challenge/train-metadata.csv')\n",
    "isic_test = pd.read_csv('isic-2024-challenge/test-metadata.csv')\n",
    "\n",
    "def load_data(path):\n",
    "    data = []\n",
    "    for filename in os.listdir(path):\n",
    "        if filename.endswith(\".jpg\"):\n",
    "            data.append(filename)\n",
    "    return data\n",
    "\n",
    "all_images = load_data('isic-2024-challenge/train-image/image')\n",
    "print(len(all_images))\n",
    "\n"
   ]
  },
  {
   "cell_type": "code",
   "execution_count": 2,
   "id": "999964eb",
   "metadata": {},
   "outputs": [
    {
     "ename": "ModuleNotFoundError",
     "evalue": "No module named 'cv2'",
     "output_type": "error",
     "traceback": [
      "\u001b[1;31m---------------------------------------------------------------------------\u001b[0m",
      "\u001b[1;31mModuleNotFoundError\u001b[0m                       Traceback (most recent call last)",
      "Cell \u001b[1;32mIn[2], line 1\u001b[0m\n\u001b[1;32m----> 1\u001b[0m \u001b[38;5;28;01mimport\u001b[39;00m \u001b[38;5;21;01mcv2\u001b[39;00m\n",
      "\u001b[1;31mModuleNotFoundError\u001b[0m: No module named 'cv2'"
     ]
    }
   ],
   "source": [
    "import cv2"
   ]
  }
 ],
 "metadata": {
  "kernelspec": {
   "display_name": "base",
   "language": "python",
   "name": "python3"
  },
  "language_info": {
   "codemirror_mode": {
    "name": "ipython",
    "version": 3
   },
   "file_extension": ".py",
   "mimetype": "text/x-python",
   "name": "python",
   "nbconvert_exporter": "python",
   "pygments_lexer": "ipython3",
   "version": "3.12.7"
  }
 },
 "nbformat": 4,
 "nbformat_minor": 5
}

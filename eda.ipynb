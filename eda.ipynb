{
 "cells": [
  {
   "cell_type": "code",
   "execution_count": 1,
   "id": "85ef4b47",
   "metadata": {},
   "outputs": [],
   "source": [
    "import pandas as pd\n",
    "import matplotlib as plt\n",
    "import zipfile\n",
    "import numpy as np\n",
    "import os\n"
   ]
  },
  {
   "cell_type": "code",
   "execution_count": 2,
   "id": "5202942e",
   "metadata": {},
   "outputs": [],
   "source": [
    "# zip_path = \"C:/Users/anony/Downloads/isic-2024-challenge.zip\"\n",
    "\n",
    "# with zipfile.ZipFile(zip_path, 'r') as zip_ref:\n",
    "#     zip_ref.extractall('isic-2024-challenge')"
   ]
  },
  {
   "cell_type": "code",
   "execution_count": null,
   "id": "b7f57969",
   "metadata": {},
   "outputs": [
    {
     "name": "stderr",
     "output_type": "stream",
     "text": [
      "C:\\Users\\anony\\AppData\\Local\\Temp\\ipykernel_16996\\255108611.py:8: DtypeWarning: Columns (51,52) have mixed types. Specify dtype option on import or set low_memory=False.\n",
      "  isic_train = pd.read_csv('isic-2024-challenge/train-metadata.csv')\n"
     ]
    },
    {
     "name": "stdout",
     "output_type": "stream",
     "text": [
      "401059\n"
     ]
    }
   ],
   "source": [
    "chatbot_training_data = pd.read_csv('Chatbot-arena/train.csv')\n",
    "chatbot_testing_data = pd.read_csv('Chatbot-arena/test.csv')\n",
    "\n",
    "stratascratch_data = pd.read_csv('StrataScratch_Uber/ds_challenge_v2_1_data.csv')\n",
    "\n",
    "\n",
    "\n",
    "isic_train = pd.read_csv('isic-2024-challenge/train-metadata.csv')\n",
    "isic_test = pd.read_csv('isic-2024-challenge/test-metadata.csv')\n",
    "\n",
    "\n",
    "\n",
    "def load_data(path):\n",
    "    data = []\n",
    "    for filename in os.listdir(path):\n",
    "        if filename.endswith(\".jpg\"):\n",
    "            data.append(filename)\n",
    "    return data\n",
    "\n",
    "all_images = load_data('isic-2024-challenge/train-image/image')\n",
    "print(len(all_images))\n",
    "\n"
   ]
  },
  {
   "cell_type": "code",
   "execution_count": null,
   "id": "8a10908a",
   "metadata": {},
   "outputs": [],
   "source": [
    "'''\n",
    "\n",
    "isic_id:\tUnique case identifier.\n",
    "patient_id: \tUnique patient identifier.\n",
    "age_approx: Approximate age of patient at time of imaging.\n",
    "sex:\tSex of the person.\n",
    "anatom_site_general:\tLocation of the lesion on the patient's body.\n",
    "clin_size_long_diam_mm:\tMaximum diameter of the lesion (mm).+\n",
    "image_type:\tStructured field of the ISIC Archive for image type.\n",
    "tbp_tile_type:\tLighting modality of the 3D TBP source image.\n",
    "tbp_lv_A:\tA inside lesion.+\n",
    "tbp_lv_Aex:\tA outside lesion.+\n",
    "tbp_lv_B:\tB inside lesion.+\n",
    "tbp_lv_Bext:\tB outside lesion.+\n",
    "tbp_lv_C:\tChroma inside lesion.+\n",
    "tbp_lv_Cext:\tChroma outside lesion.+\n",
    "tbp_lv_H:\tHue inside the lesion; calculated as the angle of A* and B* in LAB* color space. Typical values range from 25 (red) to 75 (brown).+\n",
    "tbp_lv_Hext:\tHue outside lesion.+\n",
    "tbp_lv_L:\tL inside lesion.+\n",
    "tbp_lv_Lext:\tL outside lesion.+\n",
    "tbp_lv_areaMM2:\tArea of lesion (mm^2).+\n",
    "tbp_lv_area_perim_ratio:\tBorder jaggedness, the ratio between lesions perimeter and area. Circular lesions will have low values; irregular shaped lesions will have higher values. Values range 0-10.+\n",
    "tbp_lv_color_std_mean:\tColor irregularity, calculated as the variance of colors within the lesion's boundary.\n",
    "tbp_lv_deltaA:\tAverage A contrast (inside vs. outside lesion).+\n",
    "tbp_lv_deltaB:\tAverage B contrast (inside vs. outside lesion).+\n",
    "tbp_lv_deltaL:\tAverage L contrast (inside vs. outside lesion).+\n",
    "tbp_lv_deltaLBnorm:\tContrast between the lesion and its immediate surrounding skin. Low contrast lesions tend to be faintly visible such as freckles; high contrast lesions tend to be those with darker pigment. Calculated as the average delta LB of the lesion relative to its immediate background in LAB* color space. Typical values range from 5.5 to 25.+\n",
    "tbp_lv_eccentricity:\tEccentricity.+\n",
    "tbp_lv_location:\tClassification of anatomical location, divides arms & legs to upper & lower; torso into thirds.+\n",
    "tbp_lv_location_simple:\tClassification of anatomical location, simple.+\n",
    "tbp_lv_minorAxisMM:\tSmallest lesion diameter (mm).+\n",
    "tbp_lv_nevi_confidence:\tNevus confidence score (0-100 scale) is a convolutional neural network classifier estimated probability that the lesion is a nevus. The neural network was trained on approximately 57,000 lesions that were classified and labeled by a dermatologist.+,++\n",
    "tbp_lv_norm_border:\tBorder irregularity (0-10 scale); the normalized average of border jaggedness and asymmetry.+\n",
    "tbp_lv_norm_color:\tColor variation (0-10 scale); the normalized average of color asymmetry and color irregularity.+\n",
    "tbp_lv_perimeterMM:\tPerimeter of lesion (mm).+\n",
    "tbp_lv_radial_color_std_max:\tColor asymmetry, a measure of asymmetry of the spatial distribution of color within the lesion. This score is calculated by looking at the average standard deviation in LAB* color space within concentric rings originating from the lesion center. Values range 0-10.+\n",
    "tbp_lv_stdL:\tStandard deviation of L inside lesion.+\n",
    "tbp_lv_stdLExt:\tStandard deviation of L outside lesion.+\n",
    "tbp_lv_symm_2axis:\tBorder asymmetry; a measure of asymmetry of the lesion's contour about an axis perpendicular to the lesion's most symmetric axis. Lesions with two axes of symmetry will therefore have low scores (more symmetric), while lesions with only one or zero axes of symmetry will have higher scores (less symmetric). This score is calculated by comparing opposite halves of the lesion contour over many degrees of rotation. The angle where the halves are most similar identifies the principal axis of symmetry, while the second axis of symmetry is perpendicular to the principal axis. Border asymmetry is reported as the asymmetry value about this second axis. Values range 0-10.+\n",
    "tbp_lv_symm_2axis_angle:\tLesion border asymmetry angle.+\n",
    "tbp_lv_x:\tX-coordinate of the lesion on 3D TBP.+\n",
    "tbp_lv_y:\tY-coordinate of the lesion on 3D TBP.+\n",
    "tbp_lv_z:\tZ-coordinate of the lesion on 3D TBP.+\n",
    "'''"
   ]
  },
  {
   "cell_type": "code",
   "execution_count": 6,
   "id": "999964eb",
   "metadata": {},
   "outputs": [],
   "source": [
    "import cv2\n",
    "\n",
    "def load_image(image_path):\n",
    "    base_path = 'isic-2024-challenge/train-image/image/'\n",
    "    image = cv2.imread(os.path.join(base_path, image_path))\n",
    "    cv2.imshow('Image', image)\n",
    "    cv2.waitKey(0)\n",
    "\n",
    "for i in range(10):\n",
    "    load_image(all_images[i])"
   ]
  }
 ],
 "metadata": {
  "kernelspec": {
   "display_name": "Python 3",
   "language": "python",
   "name": "python3"
  },
  "language_info": {
   "codemirror_mode": {
    "name": "ipython",
    "version": 3
   },
   "file_extension": ".py",
   "mimetype": "text/x-python",
   "name": "python",
   "nbconvert_exporter": "python",
   "pygments_lexer": "ipython3",
   "version": "3.12.10"
  }
 },
 "nbformat": 4,
 "nbformat_minor": 5
}

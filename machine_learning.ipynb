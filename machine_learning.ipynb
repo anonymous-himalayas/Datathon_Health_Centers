{
 "cells": [
  {
   "cell_type": "code",
   "execution_count": null,
   "metadata": {},
   "outputs": [],
   "source": [
    "import cv2\n",
    "import pandas as pd\n",
    "import matplotlib.pyplot as plt\n",
    "import seaborn as sns\n",
    "# import zipfile\n",
    "import numpy as np\n",
    "import os\n",
    "\n",
    "\n"
   ]
  },
  {
   "cell_type": "code",
   "execution_count": 4,
   "metadata": {},
   "outputs": [
    {
     "name": "stderr",
     "output_type": "stream",
     "text": [
      "C:\\Users\\anony\\AppData\\Local\\Temp\\ipykernel_16276\\1173509506.py:1: DtypeWarning: Columns (51,52) have mixed types. Specify dtype option on import or set low_memory=False.\n",
      "  isic_train = pd.read_csv('isic-2024-challenge/train-metadata.csv')\n"
     ]
    },
    {
     "name": "stdout",
     "output_type": "stream",
     "text": [
      "401059\n"
     ]
    }
   ],
   "source": [
    "isic_train = pd.read_csv('isic-2024-challenge/train-metadata.csv')\n",
    "\n",
    "\n",
    "\n",
    "def load_data(path):\n",
    "    data = []\n",
    "    for filename in os.listdir(path):\n",
    "        if filename.endswith(\".jpg\"):\n",
    "            data.append(filename)\n",
    "    return data\n",
    "\n",
    "all_images = load_data('isic-2024-challenge/train-image/image')\n",
    "print(len(all_images))"
   ]
  },
  {
   "cell_type": "code",
   "execution_count": 14,
   "metadata": {},
   "outputs": [
    {
     "name": "stdout",
     "output_type": "stream",
     "text": [
      "393\n"
     ]
    }
   ],
   "source": [
    "def load_image(image_path):\n",
    "    base_path = 'isic-2024-challenge/train-image/image/'\n",
    "    image = cv2.imread(os.path.join(base_path, image_path))\n",
    "    cv2.imshow('Image', image)\n",
    "    cv2.waitKey(0)\n",
    "\n",
    "# find malignant images\n",
    "# mal_images = isic_train[isic_train['target'] == 1]\n",
    "# print(len(mal_images))\n",
    "# mal_images = mal_images['isic_id'].tolist()\n",
    "\n",
    "# load_image(mal_images[2] + '.jpg')\n",
    "\n",
    "# create directory for both types of images\n",
    "def create_sample_images():\n",
    "    import random\n",
    "    if not os.path.exists('sample_images'):\n",
    "        os.makedirs('sample_images')\n",
    "    if not os.path.exists('sample_images/malignant'):\n",
    "        os.makedirs('sample_images/malignant')\n",
    "    if not os.path.exists('sample_images/benign'):\n",
    "        os.makedirs('sample_images/benign')\n",
    "    # add malignant images to the directory\n",
    "    mal_images = isic_train[isic_train['target'] == 1]\n",
    "    print(len(mal_images))\n",
    "    mal_images = mal_images['isic_id'].tolist()\n",
    "\n",
    "    # load_image(mal_images[2] + '.jpg')\n",
    "\n",
    "    for i in range(len(mal_images)):\n",
    "        image_path = mal_images[i] + '.jpg'\n",
    "        image = cv2.imread(os.path.join('isic-2024-challenge/train-image/image/', image_path))\n",
    "        cv2.imwrite(os.path.join('sample_images/malignant', image_path), image)\n",
    "    # add random benign images to the directory\n",
    "    benign_images = isic_train[isic_train['target'] == 0]\n",
    "    benign_images = benign_images['isic_id'].tolist()\n",
    "\n",
    "    benign_images = random.sample(benign_images, len(mal_images))\n",
    "    for i in range(len(benign_images)):\n",
    "        image_path = benign_images[i] + '.jpg'\n",
    "        image = cv2.imread(os.path.join('isic-2024-challenge/train-image/image/', image_path))\n",
    "        cv2.imwrite(os.path.join('sample_images/benign', image_path), image)\n",
    "\n",
    "create_sample_images()"
   ]
  }
 ],
 "metadata": {
  "kernelspec": {
   "display_name": "Python 3",
   "language": "python",
   "name": "python3"
  },
  "language_info": {
   "codemirror_mode": {
    "name": "ipython",
    "version": 3
   },
   "file_extension": ".py",
   "mimetype": "text/x-python",
   "name": "python",
   "nbconvert_exporter": "python",
   "pygments_lexer": "ipython3",
   "version": "3.12.10"
  }
 },
 "nbformat": 4,
 "nbformat_minor": 2
}
